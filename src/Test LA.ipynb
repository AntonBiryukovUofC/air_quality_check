{
 "cells": [
  {
   "cell_type": "code",
   "execution_count": 1,
   "id": "recovered-russian",
   "metadata": {},
   "outputs": [],
   "source": [
    "import streamlit as st\n",
    "import os\n",
    "#import requests\n",
    "import altair as alt\n",
    "import numpy as np\n",
    "import pandas as pd"
   ]
  },
  {
   "cell_type": "code",
   "execution_count": 2,
   "id": "still-three",
   "metadata": {},
   "outputs": [],
   "source": [
    "url = 'https://raw.githubusercontent.com/AntonBiryukovUofC/air_quality_check/luis-testing/src/data/waqi-covid19-airqualitydata-filtered.csv'\n",
    "df = pd.read_csv(url,sep=\",\")\n",
    "cities = df.City.unique()\n",
    "df_cities = pd.DataFrame(cities, columns=['City'])\n",
    "df_cities = df_cities.sort_values(by=['City'])\n",
    "df_cities = df_cities.reset_index(drop=True)"
   ]
  },
  {
   "cell_type": "code",
   "execution_count": 3,
   "id": "biblical-intervention",
   "metadata": {},
   "outputs": [
    {
     "name": "stderr",
     "output_type": "stream",
     "text": [
      "2021-03-11 20:10:37.649 WARNING root: \n",
      "  \u001b[33m\u001b[1mWarning:\u001b[0m to view this Streamlit app on a browser, run it with the following\n",
      "  command:\n",
      "\n",
      "    streamlit run C:\\Users\\lraco\\anaconda3\\lib\\site-packages\\ipykernel_launcher.py [ARGUMENTS]\n"
     ]
    }
   ],
   "source": [
    "option = st.selectbox(\n",
    "    'Select City',\n",
    "     df_cities['City'])\n",
    "\n",
    "'You selected: ', option\n",
    "\n",
    "mask = df['City'] == option\n",
    "\n",
    "\n",
    "subset = df[mask]\n",
    "subset = subset[[\"Date\", \"no2\"]]\n",
    "subset['Date']=pd.to_datetime(df['Date'])"
   ]
  },
  {
   "cell_type": "code",
   "execution_count": 4,
   "id": "hindu-tamil",
   "metadata": {},
   "outputs": [
    {
     "data": {
      "text/plain": [
       "<streamlit.delta_generator.DeltaGenerator at 0x15b11c19d00>"
      ]
     },
     "execution_count": 4,
     "metadata": {},
     "output_type": "execute_result"
    }
   ],
   "source": [
    "st.title('Air Quality check webapp')\n",
    "\n",
    "st.markdown('This app is a skeleton for what my SPE 2021 Data Science mentees will work on.'\n",
    "            'Specifically, we would like to compare the air quality levels pre/post COVID in a year-over-year plot '\n",
    "            'as a baseline')"
   ]
  },
  {
   "cell_type": "code",
   "execution_count": 5,
   "id": "spectacular-passing",
   "metadata": {},
   "outputs": [
    {
     "data": {
      "text/plain": [
       "<streamlit.delta_generator.DeltaGenerator at 0x15b11c19d00>"
      ]
     },
     "execution_count": 5,
     "metadata": {},
     "output_type": "execute_result"
    }
   ],
   "source": [
    "ch = alt.Chart(subset).mark_line().encode(\n",
    "    x='Date',\n",
    "    y='no2'\n",
    ")\n",
    "st.altair_chart(ch)"
   ]
  },
  {
   "cell_type": "code",
   "execution_count": null,
   "id": "pleased-publicity",
   "metadata": {},
   "outputs": [],
   "source": []
  }
 ],
 "metadata": {
  "kernelspec": {
   "display_name": "Python 3",
   "language": "python",
   "name": "python3"
  },
  "language_info": {
   "codemirror_mode": {
    "name": "ipython",
    "version": 3
   },
   "file_extension": ".py",
   "mimetype": "text/x-python",
   "name": "python",
   "nbconvert_exporter": "python",
   "pygments_lexer": "ipython3",
   "version": "3.8.3"
  }
 },
 "nbformat": 4,
 "nbformat_minor": 5
}
