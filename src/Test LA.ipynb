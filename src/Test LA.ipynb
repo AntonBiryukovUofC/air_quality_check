{
 "cells": [
  {
   "cell_type": "code",
   "execution_count": 19,
   "id": "acting-providence",
   "metadata": {},
   "outputs": [
    {
     "name": "stdout",
     "output_type": "stream",
     "text": [
      "                 City\n",
      "0               Macau\n",
      "1       Oklahoma City\n",
      "2             Raleigh\n",
      "3             Memphis\n",
      "4             Jackson\n",
      "..                ...\n",
      "611            Almaty\n",
      "612           Conakry\n",
      "613           Abidjan\n",
      "614  Saint Petersburg\n",
      "615             Accra\n",
      "\n",
      "[616 rows x 1 columns]\n"
     ]
    },
    {
     "data": {
      "text/html": [
       "<div>\n",
       "<style scoped>\n",
       "    .dataframe tbody tr th:only-of-type {\n",
       "        vertical-align: middle;\n",
       "    }\n",
       "\n",
       "    .dataframe tbody tr th {\n",
       "        vertical-align: top;\n",
       "    }\n",
       "\n",
       "    .dataframe thead th {\n",
       "        text-align: right;\n",
       "    }\n",
       "</style>\n",
       "<table border=\"1\" class=\"dataframe\">\n",
       "  <thead>\n",
       "    <tr style=\"text-align: right;\">\n",
       "      <th></th>\n",
       "      <th>Date</th>\n",
       "      <th>max_no2</th>\n",
       "    </tr>\n",
       "  </thead>\n",
       "  <tbody>\n",
       "    <tr>\n",
       "      <th>208389</th>\n",
       "      <td>2019-04-01</td>\n",
       "      <td>23.8</td>\n",
       "    </tr>\n",
       "    <tr>\n",
       "      <th>208390</th>\n",
       "      <td>2019-04-02</td>\n",
       "      <td>22.0</td>\n",
       "    </tr>\n",
       "    <tr>\n",
       "      <th>208391</th>\n",
       "      <td>2019-04-22</td>\n",
       "      <td>14.2</td>\n",
       "    </tr>\n",
       "    <tr>\n",
       "      <th>208392</th>\n",
       "      <td>2019-04-29</td>\n",
       "      <td>9.2</td>\n",
       "    </tr>\n",
       "    <tr>\n",
       "      <th>208393</th>\n",
       "      <td>2019-06-02</td>\n",
       "      <td>9.6</td>\n",
       "    </tr>\n",
       "    <tr>\n",
       "      <th>...</th>\n",
       "      <td>...</td>\n",
       "      <td>...</td>\n",
       "    </tr>\n",
       "    <tr>\n",
       "      <th>4177547</th>\n",
       "      <td>2020-10-30</td>\n",
       "      <td>27.0</td>\n",
       "    </tr>\n",
       "    <tr>\n",
       "      <th>4177548</th>\n",
       "      <td>2020-10-31</td>\n",
       "      <td>16.5</td>\n",
       "    </tr>\n",
       "    <tr>\n",
       "      <th>4177549</th>\n",
       "      <td>2020-11-17</td>\n",
       "      <td>15.1</td>\n",
       "    </tr>\n",
       "    <tr>\n",
       "      <th>4177550</th>\n",
       "      <td>2020-09-30</td>\n",
       "      <td>12.4</td>\n",
       "    </tr>\n",
       "    <tr>\n",
       "      <th>4177551</th>\n",
       "      <td>2020-10-03</td>\n",
       "      <td>8.3</td>\n",
       "    </tr>\n",
       "  </tbody>\n",
       "</table>\n",
       "<p>8677 rows × 2 columns</p>\n",
       "</div>"
      ],
      "text/plain": [
       "              Date  max_no2\n",
       "208389  2019-04-01     23.8\n",
       "208390  2019-04-02     22.0\n",
       "208391  2019-04-22     14.2\n",
       "208392  2019-04-29      9.2\n",
       "208393  2019-06-02      9.6\n",
       "...            ...      ...\n",
       "4177547 2020-10-30     27.0\n",
       "4177548 2020-10-31     16.5\n",
       "4177549 2020-11-17     15.1\n",
       "4177550 2020-09-30     12.4\n",
       "4177551 2020-10-03      8.3\n",
       "\n",
       "[8677 rows x 2 columns]"
      ]
     },
     "execution_count": 19,
     "metadata": {},
     "output_type": "execute_result"
    }
   ],
   "source": [
    "import numpy as np\n",
    "import pandas as pd\n",
    "\n",
    "df = pd.read_csv(\"./data/waqi-covid19-airqualitydata 2019-2020.csv\")\n",
    "cities = df.City.unique()\n",
    "df_cities = pd.DataFrame(cities, columns=['City'])\n",
    "print(df_cities)\n",
    "\n",
    "Wuhan = df['City'] == \"Wuhan\"\n",
    "\n",
    "subset = df[Wuhan]\n",
    "subset = subset[[\"Date\", \"max_no2\"]]\n",
    "subset['Date']=pd.to_datetime(df['Date'])\n",
    "#subset = subset.set_index('Date')\n",
    "\n",
    "subset"
   ]
  },
  {
   "cell_type": "code",
   "execution_count": 7,
   "id": "accessible-effectiveness",
   "metadata": {},
   "outputs": [
    {
     "data": {
      "text/plain": [
       "Date        object\n",
       "max_no2    float64\n",
       "dtype: object"
      ]
     },
     "execution_count": 7,
     "metadata": {},
     "output_type": "execute_result"
    }
   ],
   "source": [
    "subset.dtypes"
   ]
  },
  {
   "cell_type": "code",
   "execution_count": null,
   "id": "genuine-uncertainty",
   "metadata": {},
   "outputs": [],
   "source": []
  }
 ],
 "metadata": {
  "kernelspec": {
   "display_name": "Python 3",
   "language": "python",
   "name": "python3"
  },
  "language_info": {
   "codemirror_mode": {
    "name": "ipython",
    "version": 3
   },
   "file_extension": ".py",
   "mimetype": "text/x-python",
   "name": "python",
   "nbconvert_exporter": "python",
   "pygments_lexer": "ipython3",
   "version": "3.8.3"
  }
 },
 "nbformat": 4,
 "nbformat_minor": 5
}
